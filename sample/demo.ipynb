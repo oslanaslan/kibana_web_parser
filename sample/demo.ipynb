{
 "cells": [
  {
   "cell_type": "code",
   "execution_count": 1,
   "id": "89e8dd62-63d4-4474-aeb4-3309e6d1ae54",
   "metadata": {},
   "outputs": [],
   "source": [
    "import os\n",
    "\n",
    "from console_parser import ConsoleParser\n",
    "from console_parser import setup_logging"
   ]
  },
  {
   "cell_type": "code",
   "execution_count": null,
   "id": "4f13359e-23f7-46e4-9a12-4e99451d37f6",
   "metadata": {},
   "outputs": [],
   "source": [
    "setup_logging(os.path.join(\"resources\", \"logger_config.yml\"))\n",
    "console = ConsoleParser(auth_with_json=True)"
   ]
  },
  {
   "cell_type": "code",
   "execution_count": null,
   "id": "8ec2e5b2-6785-4bbf-abf2-f5c47140b104",
   "metadata": {},
   "outputs": [],
   "source": [
    "merchant_name_lst = [\n",
    "    'Merchant_1',\n",
    "    'Merchant_2',\n",
    "    'kjdsbfjk',\n",
    "    'Merchant_3',\n",
    "]\n",
    "\n",
    "for name in merchant_name_lst:\n",
    "    query_dict = {\n",
    "        \"size\": 1,\n",
    "        \"query\": {\n",
    "            \"query_string\": {\n",
    "                \"query\": f\"(SendSuccess) AND ({name})\",\n",
    "                \"default_field\": \"message\"\n",
    "            }\n",
    "        }\n",
    "    }\n",
    "    print(f'\\nResponse for {name}\\n')\n",
    "    print(console.get(query_dict).message)"
   ]
  },
  {
   "cell_type": "code",
   "execution_count": 4,
   "id": "75fa44cb-4e40-4bca-bd01-77c7fdff3ab1",
   "metadata": {},
   "outputs": [
    {
     "name": "stderr",
     "output_type": "stream",
     "text": [
      "100%|██████████| 10/10 [00:27<00:00,  2.75s/it]\n"
     ]
    }
   ],
   "source": [
    "from tqdm import tqdm\n",
    "\n",
    "\n",
    "merchant_name_lst = [\n",
    "    'Merchant_1',\n",
    "    'Merchant_2',\n",
    "    'kjdsbfjk',\n",
    "    'Merchant_3',\n",
    "    'Merchant_5',\n",
    "    'Merchant_1',\n",
    "    'Merchant_2',\n",
    "    'kjdsbfjk',\n",
    "    'Merchant_3',\n",
    "    'Merchant_4',\n",
    "]\n",
    "\n",
    "for name in tqdm(merchant_name_lst):\n",
    "    query_dict = {\n",
    "        \"size\": 1,\n",
    "        \"query\": {\n",
    "            \"query_string\": {\n",
    "                \"query\": f\"(SendSuccess) AND ({name})\",\n",
    "                \"default_field\": \"message\"\n",
    "            }\n",
    "        }\n",
    "    }\n",
    "    _ = console.get(query_dict)"
   ]
  },
  {
   "cell_type": "code",
   "execution_count": 5,
   "id": "ed7d4132-5ee5-42e6-a2b4-291fb60a74b5",
   "metadata": {},
   "outputs": [],
   "source": [
    "query_dict = {\n",
    "    \"size\": 1,\n",
    "    \"query\": {\n",
    "        \"query_string\": {\n",
    "            \"query\": f\"(SendSuccess) AND (Merchant_1)\",\n",
    "            \"default_field\": \"message\"\n",
    "        }\n",
    "    }\n",
    "}\n",
    "response = console.get(query_dict)"
   ]
  },
  {
   "cell_type": "code",
   "execution_count": null,
   "id": "0ac6cf29-7bf3-49d2-b4bb-8c2d6f5f6782",
   "metadata": {},
   "outputs": [],
   "source": [
    "response.plane_text"
   ]
  },
  {
   "cell_type": "code",
   "execution_count": null,
   "id": "0a2e8675-8ce9-4604-a911-11c77cba0c51",
   "metadata": {},
   "outputs": [],
   "source": [
    "response.log"
   ]
  },
  {
   "cell_type": "code",
   "execution_count": null,
   "id": "cd00a3d2-09ed-4dcd-82a5-0e4770a8f218",
   "metadata": {},
   "outputs": [],
   "source": [
    "response.message"
   ]
  },
  {
   "cell_type": "code",
   "execution_count": 9,
   "id": "c888af5b-2c80-408d-9801-2c07e07a2bbf",
   "metadata": {},
   "outputs": [],
   "source": [
    "console.close()"
   ]
  }
 ],
 "metadata": {
  "kernelspec": {
   "display_name": "Python 3 (ipykernel)",
   "language": "python",
   "name": "python3"
  },
  "language_info": {
   "codemirror_mode": {
    "name": "ipython",
    "version": 3
   },
   "file_extension": ".py",
   "mimetype": "text/x-python",
   "name": "python",
   "nbconvert_exporter": "python",
   "pygments_lexer": "ipython3",
   "version": "3.9.7"
  }
 },
 "nbformat": 4,
 "nbformat_minor": 5
}
